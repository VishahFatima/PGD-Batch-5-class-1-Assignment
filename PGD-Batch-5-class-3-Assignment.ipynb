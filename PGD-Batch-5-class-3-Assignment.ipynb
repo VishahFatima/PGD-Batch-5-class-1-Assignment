{
  "nbformat": 4,
  "nbformat_minor": 0,
  "metadata": {
    "colab": {
      "provenance": [],
      "authorship_tag": "ABX9TyOXSlOXIzwqI759dxVGhf5B",
      "include_colab_link": true
    },
    "kernelspec": {
      "name": "python3",
      "display_name": "Python 3"
    },
    "language_info": {
      "name": "python"
    }
  },
  "cells": [
    {
      "cell_type": "markdown",
      "metadata": {
        "id": "view-in-github",
        "colab_type": "text"
      },
      "source": [
        "<a href=\"https://colab.research.google.com/github/VishahFatima/PGD-Batch-5-class-1-Assignment/blob/main/PGD-Batch-5-class-3-Assignment.ipynb\" target=\"_parent\"><img src=\"https://colab.research.google.com/assets/colab-badge.svg\" alt=\"Open In Colab\"/></a>"
      ]
    },
    {
      "cell_type": "markdown",
      "source": [
        "**Assignment 1**: String **Concatenation** and **Formatting**"
      ],
      "metadata": {
        "id": "dVncu1yrBjlb"
      }
    },
    {
      "cell_type": "code",
      "source": [
        "name = \"Vishah Fatima\"\n",
        "age = \"22\"\n",
        "country = \"Pakistan\"\n",
        "\n",
        "print(\"My name is \" + str(name) + \", I am \" + str(age) + \" years old\" + \", I live in \" + str(country))"
      ],
      "metadata": {
        "colab": {
          "base_uri": "https://localhost:8080/"
        },
        "id": "x-oJGu-aoKU4",
        "outputId": "70292b20-b15b-4782-c512-2e527b7ad81c"
      },
      "execution_count": 13,
      "outputs": [
        {
          "output_type": "stream",
          "name": "stdout",
          "text": [
            "My name is Vishah Fatima, I am 22 years old, I live in Pakistan\n"
          ]
        }
      ]
    },
    {
      "cell_type": "markdown",
      "source": [
        "**Assignment 2**: String Formatting using **`.format()**`"
      ],
      "metadata": {
        "id": "Xgcy6YACBwzn"
      }
    },
    {
      "cell_type": "code",
      "source": [
        "quantity = input(\"Enter quantity of item: \")\n",
        "item = input(\"Enter item: \")\n",
        "price = input(\"Enter price of your item: \")\n",
        "total_cost = int(quantity) * int(price)\n",
        "print(total_cost)\n",
        "\n",
        "txt1 = \"I bought {} {}s at {} each, for a total of ${}\" .format(quantity, item, price, total_cost)\n",
        "print(txt1)\n"
      ],
      "metadata": {
        "colab": {
          "base_uri": "https://localhost:8080/"
        },
        "id": "QDhpwZ4VsQXd",
        "outputId": "63506d0f-37f9-471f-c339-c31c23607a5d"
      },
      "execution_count": 20,
      "outputs": [
        {
          "output_type": "stream",
          "name": "stdout",
          "text": [
            "Enter quantity of item: 4\n",
            "Enter item: book\n",
            "Enter price of your item: 40\n",
            "160\n",
            "I bought 4 books at 40 each, for a total of $160\n"
          ]
        }
      ]
    },
    {
      "cell_type": "markdown",
      "source": [
        "**Assignment 3**: String Interpolation using **`f''`**"
      ],
      "metadata": {
        "id": "BxpsQiIuB592"
      }
    },
    {
      "cell_type": "code",
      "source": [
        "city = \"Karachi\"\n",
        "temperature = \"28\"\n",
        "\n",
        "txt2 = f\"The temperature in {city} is {temperature}°C.\" .format(temperature, city)\n",
        "print(txt2)"
      ],
      "metadata": {
        "colab": {
          "base_uri": "https://localhost:8080/"
        },
        "id": "pJon14XJ0tI2",
        "outputId": "0b83b370-4e29-44a8-c97f-b16e2ad15b84"
      },
      "execution_count": 25,
      "outputs": [
        {
          "output_type": "stream",
          "name": "stdout",
          "text": [
            "The temperature in Karachi is 28°C.\n"
          ]
        }
      ]
    },
    {
      "cell_type": "markdown",
      "source": [
        "**Assignment 4**: String Formatting using **`%()**"
      ],
      "metadata": {
        "id": "7zq4Z5yECA5_"
      }
    },
    {
      "cell_type": "code",
      "source": [
        "first_name = \"Vishah\"\n",
        "last_name = \"Fatima\"\n",
        "birth_year = 2001\n",
        "current_year = 2023\n",
        "age = current_year - birth_year\n",
        "\n",
        "txt3 = (\"My name is %s %s. I am %d years old.\" %(first_name, last_name, age))\n",
        "print(txt3)\n",
        "\n"
      ],
      "metadata": {
        "colab": {
          "base_uri": "https://localhost:8080/"
        },
        "id": "545zGyfi2bUb",
        "outputId": "30270324-52b8-47f6-e411-c3c29d47f144"
      },
      "execution_count": 33,
      "outputs": [
        {
          "output_type": "stream",
          "name": "stdout",
          "text": [
            "My name is Vishah Fatima. I am 22 years old.\n"
          ]
        }
      ]
    },
    {
      "cell_type": "markdown",
      "source": [
        "**Assignment 5**: Combining Formatting Methods"
      ],
      "metadata": {
        "id": "v2xfDsCYCGvV"
      }
    },
    {
      "cell_type": "code",
      "source": [
        "product = \"Earbuds\"\n",
        "discount = 20\n",
        "original_price = 3000\n",
        "discounted_price = original_price * (1 - discount/100)\n",
        "#print(discounted_price)\n",
        "\n",
        "txt4 = f\"{product} original price was {original_price}\"\n",
        "txt5 = (\"but on a special discount of about %d percent\" % (discount))\n",
        "txt6 = f\"now they are available in just Rs.{discounted_price}.\" .format(discounted_price)\n",
        "\n",
        "print(txt4 ,\"\" + txt5 ,\"\" + txt6)\n",
        "\n",
        "\n"
      ],
      "metadata": {
        "colab": {
          "base_uri": "https://localhost:8080/"
        },
        "id": "88cPVCgO7FfV",
        "outputId": "4c9522d6-5f47-4700-b69f-acda4c96df61"
      },
      "execution_count": 38,
      "outputs": [
        {
          "output_type": "stream",
          "name": "stdout",
          "text": [
            "Earbuds original price was 3000 but on a special discount of about 20 percent now they are available in just Rs.2400.0.\n"
          ]
        }
      ]
    }
  ]
}